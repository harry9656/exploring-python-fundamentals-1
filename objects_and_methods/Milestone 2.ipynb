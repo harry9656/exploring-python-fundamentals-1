{
 "cells": [
  {
   "cell_type": "markdown",
   "id": "d4adf963",
   "metadata": {},
   "source": [
    "Create your own version of the Price class, similar to this:\n",
    "\n",
    "class Price:\n",
    "    def __init__(self, part_number, price):\n",
    "        self.price = price\n",
    "        self.part_number = part_number\n",
    "\n",
    "    def get_price(self):\n",
    "        return  self.price\n",
    "\n",
    "Create an instance of the class called item_price.\n",
    "\n",
    "Use the dir() function and the .__dict__ attribute to explore both the instance and the class. What would you say is the difference between dir() and .__dict__? Are there any attributes that are part of the class but not the instance? Any that are part of the instance but not the class?"
   ]
  },
  {
   "cell_type": "code",
   "execution_count": 1,
   "id": "3047f506",
   "metadata": {},
   "outputs": [
    {
     "name": "stdout",
     "output_type": "stream",
     "text": [
      "Coffee's price is 3.5$\n"
     ]
    }
   ],
   "source": [
    "class Price:\n",
    "    def __init__(self, part_number, price):\n",
    "        self.price = price\n",
    "        self.part_number = part_number\n",
    "\n",
    "    def get_price(self):\n",
    "        return  self.price\n",
    "\n",
    "coffee_price = Price(\"Coffee\", 3.5)\n",
    "print(f\"Coffee's price is {coffee_price.get_price()}$\")"
   ]
  },
  {
   "cell_type": "code",
   "execution_count": 2,
   "id": "282a6fd3",
   "metadata": {},
   "outputs": [
    {
     "data": {
      "text/plain": [
       "{'price': 3.5, 'part_number': 'Coffee'}"
      ]
     },
     "execution_count": 2,
     "metadata": {},
     "output_type": "execute_result"
    }
   ],
   "source": [
    "coffee_price.__dict__"
   ]
  },
  {
   "cell_type": "code",
   "execution_count": 3,
   "id": "9b1f71a8",
   "metadata": {},
   "outputs": [
    {
     "data": {
      "text/plain": [
       "{'price': 3.5, 'part_number': 'Coffee'}"
      ]
     },
     "execution_count": 3,
     "metadata": {},
     "output_type": "execute_result"
    }
   ],
   "source": [
    "coffee_price.__dict__"
   ]
  },
  {
   "cell_type": "raw",
   "id": "3722f282",
   "metadata": {},
   "source": [
    "The __dict__ shows the namespace only without the inherited methods from the base object."
   ]
  },
  {
   "cell_type": "markdown",
   "id": "14d344f7",
   "metadata": {},
   "source": [
    "Now we’re going to create two standalone functions that we’ll attach to our class. For this to work, each function needs to get an instance of Price as its first parameter.\n",
    "\n",
    "Create a function called set_discount(item_price, percent_off) that adds a percent_off attribute to a Price object.\n",
    "Next, create a get_discount_price(item_price) function that calculates the discount price using the price and the percent_off attributes of the item_price object."
   ]
  },
  {
   "cell_type": "code",
   "execution_count": 4,
   "id": "c840095c",
   "metadata": {},
   "outputs": [],
   "source": [
    "def set_discount(item_price, percent_off):\n",
    "    item_price.percent_off = percent_off\n",
    "\n",
    "def get_discount_price(item_price):\n",
    "    return item_price.price * (1 - item_price.percent_off / 100)"
   ]
  },
  {
   "cell_type": "markdown",
   "id": "53f3c63f",
   "metadata": {},
   "source": [
    "Attach both functions to the class and see if they work as instance methods, as in the following example:\n",
    "\n",
    "Price.set_discount = set_discount\n"
   ]
  },
  {
   "cell_type": "code",
   "execution_count": 5,
   "id": "b6aa638b",
   "metadata": {},
   "outputs": [],
   "source": [
    "Price.set_discount = set_discount\n",
    "Price.get_discount_price = get_discount_price"
   ]
  },
  {
   "cell_type": "markdown",
   "id": "e10844bc",
   "metadata": {},
   "source": [
    "By attaching the functions using the =, we have made them look like part of the class. That means that we can use them as if they were originally part of the class. Try some experiments with instances of the original class. Do they work any differently from the methods defined as part of the class from the beginning? Try some other experiments. If you add the functions to the class after it’s been defined, do they work with instances that were created before the functions were added to the class?\n",
    "\n"
   ]
  },
  {
   "cell_type": "code",
   "execution_count": 6,
   "id": "1cfdf60b",
   "metadata": {},
   "outputs": [
    {
     "data": {
      "text/plain": [
       "{'price': 3.5, 'part_number': 'Coffee'}"
      ]
     },
     "execution_count": 6,
     "metadata": {},
     "output_type": "execute_result"
    }
   ],
   "source": [
    "coffee_price.__dict__"
   ]
  },
  {
   "cell_type": "code",
   "execution_count": 7,
   "id": "87372d0f",
   "metadata": {},
   "outputs": [],
   "source": [
    "coffee_price.set_discount(20)"
   ]
  },
  {
   "cell_type": "markdown",
   "id": "353f2ce1",
   "metadata": {},
   "source": [
    "We can see that the functions gets added to the original instance also even if we added them to the class after we created an instance. This is because the class changes."
   ]
  },
  {
   "cell_type": "code",
   "execution_count": 8,
   "id": "efc81026",
   "metadata": {},
   "outputs": [
    {
     "data": {
      "text/plain": [
       "2.8000000000000003"
      ]
     },
     "execution_count": 8,
     "metadata": {},
     "output_type": "execute_result"
    }
   ],
   "source": [
    "coffee_price.get_price()\n",
    "coffee_price.get_discount_price()"
   ]
  },
  {
   "cell_type": "code",
   "execution_count": 16,
   "id": "efc747ec",
   "metadata": {},
   "outputs": [
    {
     "data": {
      "text/plain": [
       "{'price': 3.5, 'part_number': 'Coffee', 'percent_off': 20}"
      ]
     },
     "execution_count": 16,
     "metadata": {},
     "output_type": "execute_result"
    }
   ],
   "source": [
    "coffee_price.__dict__"
   ]
  },
  {
   "cell_type": "markdown",
   "id": "859c15b1",
   "metadata": {},
   "source": [
    "Adding a method to a class after it’s been created is commonly called monkey patching.\n",
    "\n",
    "If you add a function to an instance instead of to the class, what happens? Does it work at all? How is its behavior different?"
   ]
  },
  {
   "cell_type": "code",
   "execution_count": 10,
   "id": "03e5c2a0",
   "metadata": {},
   "outputs": [
    {
     "data": {
      "text/plain": [
       "{'price': 3, 'part_number': 'Tea'}"
      ]
     },
     "execution_count": 10,
     "metadata": {},
     "output_type": "execute_result"
    }
   ],
   "source": [
    "class Price2:\n",
    "    def __init__(self, part_number, price):\n",
    "        self.price = price\n",
    "        self.part_number = part_number\n",
    "\n",
    "    def get_price(self):\n",
    "        return  self.price\n",
    "\n",
    "tea_price = Price2(\"Tea\", 3)\n",
    "\n",
    "tea_price.__dict__"
   ]
  },
  {
   "cell_type": "code",
   "execution_count": 11,
   "id": "c394654f",
   "metadata": {},
   "outputs": [
    {
     "data": {
      "text/plain": [
       "{'price': 3,\n",
       " 'part_number': 'Tea',\n",
       " 'set_discount': <function __main__.set_discount(item_price, percent_off)>,\n",
       " 'get_discount_price': <function __main__.get_discount_price(item_price)>}"
      ]
     },
     "execution_count": 11,
     "metadata": {},
     "output_type": "execute_result"
    }
   ],
   "source": [
    "tea_price.set_discount = set_discount\n",
    "tea_price.get_discount_price = get_discount_price\n",
    "\n",
    "tea_price.__dict__"
   ]
  },
  {
   "cell_type": "code",
   "execution_count": 12,
   "id": "61ffc388",
   "metadata": {},
   "outputs": [
    {
     "data": {
      "text/plain": [
       "['__class__',\n",
       " '__delattr__',\n",
       " '__dict__',\n",
       " '__dir__',\n",
       " '__doc__',\n",
       " '__eq__',\n",
       " '__format__',\n",
       " '__ge__',\n",
       " '__getattribute__',\n",
       " '__gt__',\n",
       " '__hash__',\n",
       " '__init__',\n",
       " '__init_subclass__',\n",
       " '__le__',\n",
       " '__lt__',\n",
       " '__module__',\n",
       " '__ne__',\n",
       " '__new__',\n",
       " '__reduce__',\n",
       " '__reduce_ex__',\n",
       " '__repr__',\n",
       " '__setattr__',\n",
       " '__sizeof__',\n",
       " '__str__',\n",
       " '__subclasshook__',\n",
       " '__weakref__',\n",
       " 'get_price']"
      ]
     },
     "execution_count": 12,
     "metadata": {},
     "output_type": "execute_result"
    }
   ],
   "source": [
    "dir(Price2)"
   ]
  },
  {
   "cell_type": "markdown",
   "id": "bc392125",
   "metadata": {},
   "source": [
    "If I add attach the functions to an individiual instances only that instance will have the functions inside their namespaces. This won't work as before as the functions in the namespace don't have the self parameter passed as their first parameter. The following will throw an error:"
   ]
  },
  {
   "cell_type": "code",
   "execution_count": 17,
   "id": "8e550997",
   "metadata": {},
   "outputs": [
    {
     "ename": "TypeError",
     "evalue": "set_discount() missing 1 required positional argument: 'percent_off'",
     "output_type": "error",
     "traceback": [
      "\u001b[0;31m---------------------------------------------------------------------------\u001b[0m",
      "\u001b[0;31mTypeError\u001b[0m                                 Traceback (most recent call last)",
      "Cell \u001b[0;32mIn[17], line 1\u001b[0m\n\u001b[0;32m----> 1\u001b[0m \u001b[43mtea_price\u001b[49m\u001b[38;5;241;43m.\u001b[39;49m\u001b[43mset_discount\u001b[49m\u001b[43m(\u001b[49m\u001b[38;5;241;43m20\u001b[39;49m\u001b[43m)\u001b[49m\n",
      "\u001b[0;31mTypeError\u001b[0m: set_discount() missing 1 required positional argument: 'percent_off'"
     ]
    }
   ],
   "source": [
    "tea_price.set_discount(20)"
   ]
  },
  {
   "cell_type": "code",
   "execution_count": null,
   "id": "8aa7e68d",
   "metadata": {},
   "outputs": [],
   "source": []
  }
 ],
 "metadata": {
  "kernelspec": {
   "display_name": "Python 3 (ipykernel)",
   "language": "python",
   "name": "python3"
  },
  "language_info": {
   "codemirror_mode": {
    "name": "ipython",
    "version": 3
   },
   "file_extension": ".py",
   "mimetype": "text/x-python",
   "name": "python",
   "nbconvert_exporter": "python",
   "pygments_lexer": "ipython3",
   "version": "3.10.9"
  }
 },
 "nbformat": 4,
 "nbformat_minor": 5
}
