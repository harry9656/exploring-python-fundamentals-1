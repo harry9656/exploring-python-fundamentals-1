{
 "cells": [
  {
   "cell_type": "raw",
   "id": "6f421139",
   "metadata": {},
   "source": [
    "Create an instance of the class and test it to make sure that the price is set and the get_price() method works."
   ]
  },
  {
   "cell_type": "code",
   "execution_count": 3,
   "id": "3047f506",
   "metadata": {},
   "outputs": [
    {
     "name": "stdout",
     "output_type": "stream",
     "text": [
      "Coffee's price is 3.5$\n"
     ]
    }
   ],
   "source": [
    "class Price:\n",
    "    def __init__(self, part_number, price):\n",
    "        self.price = price\n",
    "        self.part_number = part_number\n",
    "\n",
    "    def get_price(self):\n",
    "        return  self.price\n",
    "\n",
    "coffee_price = Price(\"Coffee\", 3.5)\n",
    "\n",
    "print(f\"Coffee's price is {coffee_price.get_price()}$\")"
   ]
  },
  {
   "cell_type": "raw",
   "id": "7d703112",
   "metadata": {},
   "source": [
    "Create two functions, function__init__ and function_get_price, that take the same parameters as the methods in the Price class."
   ]
  },
  {
   "cell_type": "code",
   "execution_count": 7,
   "id": "ce35b239",
   "metadata": {},
   "outputs": [],
   "source": [
    "def function__init__(self, part_number, price):\n",
    "    self.price = price\n",
    "    self.part_number = part_number\n",
    "\n",
    "def function_get_price(self):\n",
    "    return self.price\n"
   ]
  },
  {
   "cell_type": "raw",
   "id": "90c2cc33",
   "metadata": {},
   "source": [
    "Create a dictionary namespace with two keys, \"___init___\" and \"get_price\", with the values being the names (just the names—no parameters, no parenthesis, no quotes) of the functions you just created (function__init__ and function_get_price)."
   ]
  },
  {
   "cell_type": "code",
   "execution_count": 9,
   "id": "2a6f0bf1",
   "metadata": {},
   "outputs": [],
   "source": [
    "namespace = {\"__init__\": function__init__, \"get_price\": function_get_price}"
   ]
  },
  {
   "cell_type": "raw",
   "id": "283253a9",
   "metadata": {},
   "source": [
    "Create a class with type().\n",
    "\n",
    "Price2 = type('Price2', (), namespace)\n",
    "The first parameter is the class name, which should (but doesn’t have to) match the name on the left side of the =.\n",
    "\n",
    "The second parameter, (), is the list of superclasses, which is empty in this case.\n",
    "\n",
    "The last parameter is the namespace dictionary we created above."
   ]
  },
  {
   "cell_type": "code",
   "execution_count": 10,
   "id": "6fb87d30",
   "metadata": {},
   "outputs": [],
   "source": [
    "Price2 = type('Price2', (), namespace)"
   ]
  },
  {
   "cell_type": "raw",
   "id": "f5f9f456",
   "metadata": {},
   "source": [
    "Test to see if there are any differences between the first class you defined and the one created using type()."
   ]
  },
  {
   "cell_type": "code",
   "execution_count": 12,
   "id": "da793cfc",
   "metadata": {},
   "outputs": [
    {
     "name": "stdout",
     "output_type": "stream",
     "text": [
      "Coffee's price is 3.1$\n"
     ]
    }
   ],
   "source": [
    "coffee_price2 = Price2(\"Coffee\", 3.1)\n",
    "\n",
    "print(f\"Coffee's price is {coffee_price2.get_price()}$\")"
   ]
  },
  {
   "cell_type": "code",
   "execution_count": null,
   "id": "c840095c",
   "metadata": {},
   "outputs": [],
   "source": []
  }
 ],
 "metadata": {
  "kernelspec": {
   "display_name": "Python 3 (ipykernel)",
   "language": "python",
   "name": "python3"
  },
  "language_info": {
   "codemirror_mode": {
    "name": "ipython",
    "version": 3
   },
   "file_extension": ".py",
   "mimetype": "text/x-python",
   "name": "python",
   "nbconvert_exporter": "python",
   "pygments_lexer": "ipython3",
   "version": "3.10.9"
  }
 },
 "nbformat": 4,
 "nbformat_minor": 5
}
