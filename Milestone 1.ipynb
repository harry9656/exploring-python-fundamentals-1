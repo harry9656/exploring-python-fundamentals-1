{
 "cells": [
  {
   "cell_type": "code",
   "execution_count": 16,
   "id": "3047f506",
   "metadata": {},
   "outputs": [
    {
     "name": "stdout",
     "output_type": "stream",
     "text": [
      "a was 1 but now is: 3\n",
      "b is: 1\n",
      "a was 1.3 but now is: 4.5\n",
      "b is: 1.3\n",
      "a was Apple but now is: Banana\n",
      "b is: Apple\n",
      "a was [1,2,3] but now is: [1, 4, 3]\n",
      "b is: [1, 4, 3]\n",
      "a was [1,4,3] but now is: [3, 2, 1, 4]\n",
      "b is: [1, 4, 3]\n",
      "a was (\"Car\", \"Truck\") but now is: ('Airplane', 'Ship')\n",
      "b is: ('Car', 'Truck')\n",
      "a was {\"Car\": 123, \"Truck\": 456} is: {'Car': 321, 'Truck': 456}\n",
      "b is: {'Car': 321, 'Truck': 456}\n",
      "a was {\"Car\": 321, \"Truck\": 456} is: {'Airplane': 789}\n",
      "b is: {'Car': 321, 'Truck': 456}\n"
     ]
    }
   ],
   "source": [
    "# Integer\n",
    "a = 1\n",
    "b = a\n",
    "a = 3\n",
    "print(f\"a was 1 but now is: {a}\\nb is: {b}\")\n",
    "\n",
    "#Floating\n",
    "a = 1.3\n",
    "b = a\n",
    "a = 4.5\n",
    "print(f\"a was 1.3 but now is: {a}\\nb is: {b}\")\n",
    "\n",
    "# String\n",
    "a = \"Apple\"\n",
    "b = a\n",
    "a = \"Banana\"\n",
    "print(f\"a was Apple but now is: {a}\\nb is: {b}\")\n",
    "\n",
    "# List single assignement\n",
    "a = [1,2,3]\n",
    "b = a\n",
    "a[1] = 4\n",
    "print(f\"a was [1,2,3] but now is: {a}\\nb is: {b}\")\n",
    "# New assignement\n",
    "a = [3,2,1,4]\n",
    "print(f\"a was [1,4,3] but now is: {a}\\nb is: {b}\")\n",
    "\n",
    "# Tupple new assignement (Tuple is unmutable can't assign single elements)\n",
    "a = (\"Car\", \"Truck\")\n",
    "b = a\n",
    "a = (\"Airplane\", \"Ship\")\n",
    "print(f\"a was (\\\"Car\\\", \\\"Truck\\\") but now is: {a}\\nb is: {b}\")\n",
    "\n",
    "# Dictionary single assignement\n",
    "a = {\"Car\": 123, \"Truck\": 456}\n",
    "b = a\n",
    "a[\"Car\"] = 321\n",
    "print(f'a was {{\"Car\": 123, \"Truck\": 456}} is: {a}\\nb is: {b}')\n",
    "\n",
    "# Dictionary new assignment\n",
    "a = {\"Airplane\": 789}\n",
    "print(f'a was {{\"Car\": 321, \"Truck\": 456}} is: {a}\\nb is: {b}')"
   ]
  },
  {
   "cell_type": "code",
   "execution_count": null,
   "id": "101bfd6d",
   "metadata": {},
   "outputs": [],
   "source": []
  },
  {
   "cell_type": "code",
   "execution_count": null,
   "id": "ce35b239",
   "metadata": {},
   "outputs": [],
   "source": []
  }
 ],
 "metadata": {
  "kernelspec": {
   "display_name": "Python 3 (ipykernel)",
   "language": "python",
   "name": "python3"
  },
  "language_info": {
   "codemirror_mode": {
    "name": "ipython",
    "version": 3
   },
   "file_extension": ".py",
   "mimetype": "text/x-python",
   "name": "python",
   "nbconvert_exporter": "python",
   "pygments_lexer": "ipython3",
   "version": "3.10.9"
  }
 },
 "nbformat": 4,
 "nbformat_minor": 5
}
