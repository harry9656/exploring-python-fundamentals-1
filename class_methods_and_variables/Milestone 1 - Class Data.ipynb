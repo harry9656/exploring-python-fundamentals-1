{
 "cells": [
  {
   "cell_type": "markdown",
   "id": "5e56227f",
   "metadata": {},
   "source": [
    "Creating a Connection class "
   ]
  },
  {
   "cell_type": "code",
   "execution_count": 1,
   "id": "8343eb4e",
   "metadata": {},
   "outputs": [],
   "source": [
    "class Connection:\n",
    "    port = 55000\n",
    "    conn_limit = 10\n",
    "    conn_count = 0\n",
    "    \n",
    "    def __init__(self, host):\n",
    "        # set the host for the instance\n",
    "        self.host = host\n",
    "        # set the port based on the class variable port\n",
    "        if self.conn_count < self.conn_limit:\n",
    "            self.port = self.port + 1\n",
    "            # add 1 to the class's connection_count\n",
    "            self.conn_count = self.conn_count + 1\n",
    "\n",
    "    def close(self):\n",
    "        # reduce the class's connection_count by 1\n",
    "        self.conn_count = self.conn_count - 1\n",
    "\n",
    "new_connection = Connection(\"localhost\")"
   ]
  },
  {
   "cell_type": "code",
   "execution_count": 2,
   "id": "e81e83e1",
   "metadata": {},
   "outputs": [
    {
     "data": {
      "text/plain": [
       "mappingproxy({'__module__': '__main__',\n",
       "              'port': 55000,\n",
       "              'conn_limit': 10,\n",
       "              'conn_count': 0,\n",
       "              '__init__': <function __main__.Connection.__init__(self, host)>,\n",
       "              'close': <function __main__.Connection.close(self)>,\n",
       "              '__dict__': <attribute '__dict__' of 'Connection' objects>,\n",
       "              '__weakref__': <attribute '__weakref__' of 'Connection' objects>,\n",
       "              '__doc__': None})"
      ]
     },
     "execution_count": 2,
     "metadata": {},
     "output_type": "execute_result"
    }
   ],
   "source": [
    "Connection.__dict__"
   ]
  },
  {
   "cell_type": "code",
   "execution_count": 3,
   "id": "0c0e1bb6",
   "metadata": {},
   "outputs": [
    {
     "data": {
      "text/plain": [
       "['__class__',\n",
       " '__delattr__',\n",
       " '__dict__',\n",
       " '__dir__',\n",
       " '__doc__',\n",
       " '__eq__',\n",
       " '__format__',\n",
       " '__ge__',\n",
       " '__getattribute__',\n",
       " '__gt__',\n",
       " '__hash__',\n",
       " '__init__',\n",
       " '__init_subclass__',\n",
       " '__le__',\n",
       " '__lt__',\n",
       " '__module__',\n",
       " '__ne__',\n",
       " '__new__',\n",
       " '__reduce__',\n",
       " '__reduce_ex__',\n",
       " '__repr__',\n",
       " '__setattr__',\n",
       " '__sizeof__',\n",
       " '__str__',\n",
       " '__subclasshook__',\n",
       " '__weakref__',\n",
       " 'close',\n",
       " 'conn_count',\n",
       " 'conn_limit',\n",
       " 'host',\n",
       " 'port']"
      ]
     },
     "execution_count": 3,
     "metadata": {},
     "output_type": "execute_result"
    }
   ],
   "source": [
    "new_connection = Connection(\"localhost\")\n",
    "dir(new_connection)"
   ]
  },
  {
   "cell_type": "markdown",
   "id": "8c9b51fb",
   "metadata": {},
   "source": [
    "Above we can see that the instance didn't change the class attribute.\n",
    "\n",
    "Now, add the repr function to the class so we can print the host and the port number:"
   ]
  },
  {
   "cell_type": "code",
   "execution_count": 4,
   "id": "6e5a4802",
   "metadata": {},
   "outputs": [
    {
     "data": {
      "text/plain": [
       "'localhost:55001'"
      ]
     },
     "execution_count": 4,
     "metadata": {},
     "output_type": "execute_result"
    }
   ],
   "source": [
    "class Connection:\n",
    "    port = 55000\n",
    "    conn_limit = 10\n",
    "    conn_count = 0\n",
    "    \n",
    "    def __init__(self, host):\n",
    "        # set the host for the instance\n",
    "        self.host = host\n",
    "        # set the port based on the class variable port\n",
    "        if self.conn_count < self.conn_limit:\n",
    "            self.port = self.port + 1\n",
    "            # add 1 to the class's connection_count\n",
    "            self.conn_count = self.conn_count + 1\n",
    "\n",
    "    def close(self):\n",
    "        # reduce the class's connection_count by 1\n",
    "        self.conn_count = self.conn_count - 1\n",
    "\n",
    "    def __repr__(self):\n",
    "        return f\"{self.host}:{self.port}\"\n",
    "\n",
    "new_connection = Connection(\"localhost\")\n",
    "repr(new_connection)\n",
    "new_connection_2 = Connection(\"localhost\")\n",
    "repr(new_connection_2)"
   ]
  },
  {
   "cell_type": "markdown",
   "id": "45f4f05d",
   "metadata": {},
   "source": [
    "There is a problem whith this solution as the last port is not saved in the class attribute so we cannot persist this information inside the class.\n",
    "\n",
    "Now we create a different Connection class and save all the instances as a list."
   ]
  },
  {
   "cell_type": "code",
   "execution_count": 5,
   "id": "de465847",
   "metadata": {},
   "outputs": [
    {
     "ename": "NameError",
     "evalue": "name 'conn_limit' is not defined",
     "output_type": "error",
     "traceback": [
      "\u001b[0;31m---------------------------------------------------------------------------\u001b[0m",
      "\u001b[0;31mNameError\u001b[0m                                 Traceback (most recent call last)",
      "Cell \u001b[0;32mIn[5], line 21\u001b[0m\n\u001b[1;32m     18\u001b[0m     \u001b[38;5;28;01mdef\u001b[39;00m \u001b[38;5;21m__repr__\u001b[39m(\u001b[38;5;28mself\u001b[39m):\n\u001b[1;32m     19\u001b[0m         \u001b[38;5;28;01mreturn\u001b[39;00m \u001b[38;5;124mf\u001b[39m\u001b[38;5;124m\"\u001b[39m\u001b[38;5;132;01m{\u001b[39;00m\u001b[38;5;28mself\u001b[39m\u001b[38;5;241m.\u001b[39mhost\u001b[38;5;132;01m}\u001b[39;00m\u001b[38;5;124m, \u001b[39m\u001b[38;5;132;01m{\u001b[39;00m\u001b[38;5;28mself\u001b[39m\u001b[38;5;241m.\u001b[39mport\u001b[38;5;132;01m}\u001b[39;00m\u001b[38;5;124m\"\u001b[39m\n\u001b[0;32m---> 21\u001b[0m new_connection \u001b[38;5;241m=\u001b[39m \u001b[43mConnection\u001b[49m\u001b[43m(\u001b[49m\u001b[38;5;124;43m\"\u001b[39;49m\u001b[38;5;124;43mlocalhost\u001b[39;49m\u001b[38;5;124;43m\"\u001b[39;49m\u001b[43m)\u001b[49m\n\u001b[1;32m     22\u001b[0m \u001b[38;5;28mrepr\u001b[39m(new_connection)\n\u001b[1;32m     23\u001b[0m new_connection_2 \u001b[38;5;241m=\u001b[39m Connection(\u001b[38;5;124m\"\u001b[39m\u001b[38;5;124mlocalhost\u001b[39m\u001b[38;5;124m\"\u001b[39m)\n",
      "Cell \u001b[0;32mIn[5], line 8\u001b[0m, in \u001b[0;36mConnection.__init__\u001b[0;34m(self, host)\u001b[0m\n\u001b[1;32m      6\u001b[0m \u001b[38;5;28;01mdef\u001b[39;00m \u001b[38;5;21m__init__\u001b[39m(\u001b[38;5;28mself\u001b[39m, host):\n\u001b[1;32m      7\u001b[0m     \u001b[38;5;28mself\u001b[39m\u001b[38;5;241m.\u001b[39mhost \u001b[38;5;241m=\u001b[39m host\n\u001b[0;32m----> 8\u001b[0m     \u001b[38;5;28;01mif\u001b[39;00m \u001b[38;5;28mlen\u001b[39m(\u001b[38;5;28mself\u001b[39m\u001b[38;5;241m.\u001b[39mconnections) \u001b[38;5;241m<\u001b[39m \u001b[43mconn_limit\u001b[49m:\n\u001b[1;32m      9\u001b[0m         \u001b[38;5;28;01mif\u001b[39;00m \u001b[38;5;28mlen\u001b[39m(\u001b[38;5;28mself\u001b[39m\u001b[38;5;241m.\u001b[39mconnections) \u001b[38;5;241m==\u001b[39m \u001b[38;5;241m0\u001b[39m:\n\u001b[1;32m     10\u001b[0m             \u001b[38;5;28mself\u001b[39m\u001b[38;5;241m.\u001b[39mport \u001b[38;5;241m=\u001b[39m \u001b[38;5;241m55000\u001b[39m\n",
      "\u001b[0;31mNameError\u001b[0m: name 'conn_limit' is not defined"
     ]
    }
   ],
   "source": [
    "class Connection:\n",
    "    port = 55000\n",
    "    conn_limit = 10\n",
    "    connections = []\n",
    "    \n",
    "    def __init__(self, host):\n",
    "        self.host = host\n",
    "        if len(self.connections) < self.conn_limit:\n",
    "            if len(self.connections) == 0:\n",
    "                self.port = 55000\n",
    "            else:\n",
    "                self.port = self.connections[-1].port + 1\n",
    "            self.connections.append(self)\n",
    "        \n",
    "    def close(self):\n",
    "        self.connections.remove(self)\n",
    "        \n",
    "    def __repr__(self):\n",
    "        return f\"{self.host}, {self.port}\"\n",
    "\n",
    "new_connection = Connection(\"localhost\")\n",
    "repr(new_connection)\n",
    "new_connection_2 = Connection(\"localhost\")\n",
    "repr(new_connection_2)\n",
    "new_connection.close()\n",
    "new_connection_3 = Connection(\"localhost\")\n",
    "repr(new_connection_3)"
   ]
  },
  {
   "cell_type": "code",
   "execution_count": null,
   "id": "aac470f2",
   "metadata": {},
   "outputs": [],
   "source": [
    "new_connection_3.__dict__"
   ]
  },
  {
   "cell_type": "code",
   "execution_count": null,
   "id": "d0dade37",
   "metadata": {},
   "outputs": [],
   "source": [
    "Connection.__dict__"
   ]
  },
  {
   "cell_type": "markdown",
   "id": "bfcf4750",
   "metadata": {},
   "source": [
    "_Is there a difference between using a mutable object like a list as opposed to using an integer?_\n",
    "\n",
    "Yes there is a difference in using a mutable object. Mutable objects change the attribute of the class therefore can be used to maintain the state of our connections. Instead using immutable objects we lose that information.\n",
    "I think using the Mutable objects like this can lead to difficult situations when debugging as we are changing the class's attributes. "
   ]
  },
  {
   "cell_type": "code",
   "execution_count": null,
   "id": "be508586",
   "metadata": {},
   "outputs": [],
   "source": []
  }
 ],
 "metadata": {
  "kernelspec": {
   "display_name": "Python 3 (ipykernel)",
   "language": "python",
   "name": "python3"
  },
  "language_info": {
   "codemirror_mode": {
    "name": "ipython",
    "version": 3
   },
   "file_extension": ".py",
   "mimetype": "text/x-python",
   "name": "python",
   "nbconvert_exporter": "python",
   "pygments_lexer": "ipython3",
   "version": "3.10.9"
  }
 },
 "nbformat": 4,
 "nbformat_minor": 5
}
