{
 "cells": [
  {
   "cell_type": "code",
   "execution_count": 1,
   "id": "8343eb4e",
   "metadata": {},
   "outputs": [
    {
     "name": "stdout",
     "output_type": "stream",
     "text": [
      "{'host': 'localhost'}\n"
     ]
    }
   ],
   "source": [
    "class Connection:\n",
    "    port = 55000\n",
    "    conn_limit = 10\n",
    "    conn_count = 0\n",
    "    \n",
    "    def __init__(self, host):\n",
    "        self.host = host\n",
    "        if Connection.conn_count < Connection.conn_limit:\n",
    "            Connection.port = Connection.port + 1\n",
    "            Connection.conn_count = Connection.conn_count + 1\n",
    "\n",
    "    def close(self):\n",
    "        # reduce the class's connection_count by 1\n",
    "        Connection.conn_count = Connection.conn_count - 1\n",
    "    \n",
    "    def __repr__(self):\n",
    "        return f\"{self.host}:{self.port}\"\n",
    "\n",
    "new_connection = Connection(\"localhost\")\n",
    "print(new_connection.__dict__)\n"
   ]
  },
  {
   "cell_type": "code",
   "execution_count": 2,
   "id": "be508586",
   "metadata": {},
   "outputs": [
    {
     "data": {
      "text/plain": [
       "mappingproxy({'__module__': '__main__',\n",
       "              'port': 55001,\n",
       "              'conn_limit': 10,\n",
       "              'conn_count': 1,\n",
       "              '__init__': <function __main__.Connection.__init__(self, host)>,\n",
       "              'close': <function __main__.Connection.close(self)>,\n",
       "              '__repr__': <function __main__.Connection.__repr__(self)>,\n",
       "              '__dict__': <attribute '__dict__' of 'Connection' objects>,\n",
       "              '__weakref__': <attribute '__weakref__' of 'Connection' objects>,\n",
       "              '__doc__': None})"
      ]
     },
     "execution_count": 2,
     "metadata": {},
     "output_type": "execute_result"
    }
   ],
   "source": [
    "Connection.__dict__"
   ]
  },
  {
   "cell_type": "code",
   "execution_count": 3,
   "id": "1599e81c",
   "metadata": {},
   "outputs": [
    {
     "data": {
      "text/plain": [
       "mappingproxy({'__module__': '__main__',\n",
       "              'port': 55001,\n",
       "              'conn_limit': 10,\n",
       "              'conn_count': 0,\n",
       "              '__init__': <function __main__.Connection.__init__(self, host)>,\n",
       "              'close': <function __main__.Connection.close(self)>,\n",
       "              '__repr__': <function __main__.Connection.__repr__(self)>,\n",
       "              '__dict__': <attribute '__dict__' of 'Connection' objects>,\n",
       "              '__weakref__': <attribute '__weakref__' of 'Connection' objects>,\n",
       "              '__doc__': None})"
      ]
     },
     "execution_count": 3,
     "metadata": {},
     "output_type": "execute_result"
    }
   ],
   "source": [
    "new_connection.close()\n",
    "Connection.__dict__"
   ]
  },
  {
   "cell_type": "markdown",
   "id": "dfa4bed8",
   "metadata": {},
   "source": [
    "_While using the class explicitly works, what problems with that approach might we face if we later create a subclass?_\n",
    "\n",
    "If we later create a subclass all the updates to the attributes will reflect on the subclasses as well. "
   ]
  },
  {
   "cell_type": "code",
   "execution_count": 4,
   "id": "05464ac6",
   "metadata": {},
   "outputs": [
    {
     "data": {
      "text/plain": [
       "{'host': 'localhost'}"
      ]
     },
     "execution_count": 4,
     "metadata": {},
     "output_type": "execute_result"
    }
   ],
   "source": [
    "new_connection.__dict__ # Only the host variable is set in the instance's namespace"
   ]
  },
  {
   "cell_type": "code",
   "execution_count": 17,
   "id": "fb48f937",
   "metadata": {},
   "outputs": [],
   "source": [
    "class Connection:\n",
    "    port = 55000\n",
    "    conn_limit = 10\n",
    "    conn_count = 0\n",
    "    \n",
    "    def __init__(self, host):\n",
    "        self.host = host\n",
    "        self.port = self.get_next_port()\n",
    "\n",
    "    def __repr__(self):\n",
    "        return f\"{self.host}:{self.port}\"\n",
    "    \n",
    "    @classmethod\n",
    "    def get_next_port(cls):\n",
    "        return cls.port + cls.conn_count\n",
    "\n",
    "    @classmethod\n",
    "    def get_connection_count(cls):\n",
    "        return cls.conn_count\n",
    "\n",
    "    @classmethod\n",
    "    def add_connection(cls):\n",
    "        if cls.conn_count < cls.conn_limit:\n",
    "            cls.conn_count += 1\n",
    "\n",
    "    @classmethod\n",
    "    def remove_connection(cls):\n",
    "        cls.conn_count -= 1"
   ]
  },
  {
   "cell_type": "code",
   "execution_count": 18,
   "id": "fb07817f",
   "metadata": {},
   "outputs": [
    {
     "data": {
      "text/plain": [
       "mappingproxy({'__module__': '__main__',\n",
       "              'port': 55000,\n",
       "              'conn_limit': 10,\n",
       "              'conn_count': 0,\n",
       "              '__init__': <function __main__.Connection.__init__(self, host)>,\n",
       "              '__repr__': <function __main__.Connection.__repr__(self)>,\n",
       "              'get_next_port': <classmethod(<function Connection.get_next_port at 0x107b3fc70>)>,\n",
       "              'get_connection_count': <classmethod(<function Connection.get_connection_count at 0x107b3f880>)>,\n",
       "              'add_connection': <classmethod(<function Connection.add_connection at 0x107b3f760>)>,\n",
       "              'remove_connection': <classmethod(<function Connection.remove_connection at 0x107b3fe20>)>,\n",
       "              '__dict__': <attribute '__dict__' of 'Connection' objects>,\n",
       "              '__weakref__': <attribute '__weakref__' of 'Connection' objects>,\n",
       "              '__doc__': None})"
      ]
     },
     "execution_count": 18,
     "metadata": {},
     "output_type": "execute_result"
    }
   ],
   "source": [
    "Connection.__dict__"
   ]
  },
  {
   "cell_type": "code",
   "execution_count": 19,
   "id": "4e5bbfe8",
   "metadata": {},
   "outputs": [],
   "source": [
    "connection = Connection(\"localhost\")"
   ]
  },
  {
   "cell_type": "code",
   "execution_count": 20,
   "id": "0ca9f294",
   "metadata": {},
   "outputs": [
    {
     "data": {
      "text/plain": [
       "0"
      ]
     },
     "execution_count": 20,
     "metadata": {},
     "output_type": "execute_result"
    }
   ],
   "source": [
    "Connection.get_connection_count()"
   ]
  },
  {
   "cell_type": "code",
   "execution_count": 21,
   "id": "7374e947",
   "metadata": {},
   "outputs": [
    {
     "data": {
      "text/plain": [
       "55000"
      ]
     },
     "execution_count": 21,
     "metadata": {},
     "output_type": "execute_result"
    }
   ],
   "source": [
    "Connection.get_next_port()"
   ]
  },
  {
   "cell_type": "code",
   "execution_count": 22,
   "id": "13dc8eef",
   "metadata": {},
   "outputs": [],
   "source": [
    "connection.add_connection()"
   ]
  },
  {
   "cell_type": "code",
   "execution_count": 23,
   "id": "2977003b",
   "metadata": {},
   "outputs": [
    {
     "data": {
      "text/plain": [
       "{'host': 'localhost', 'port': 55000}"
      ]
     },
     "execution_count": 23,
     "metadata": {},
     "output_type": "execute_result"
    }
   ],
   "source": [
    "connection.__dict__"
   ]
  },
  {
   "cell_type": "code",
   "execution_count": 24,
   "id": "970cfb7e",
   "metadata": {},
   "outputs": [
    {
     "data": {
      "text/plain": [
       "mappingproxy({'__module__': '__main__',\n",
       "              'port': 55000,\n",
       "              'conn_limit': 10,\n",
       "              'conn_count': 1,\n",
       "              '__init__': <function __main__.Connection.__init__(self, host)>,\n",
       "              '__repr__': <function __main__.Connection.__repr__(self)>,\n",
       "              'get_next_port': <classmethod(<function Connection.get_next_port at 0x107b3fc70>)>,\n",
       "              'get_connection_count': <classmethod(<function Connection.get_connection_count at 0x107b3f880>)>,\n",
       "              'add_connection': <classmethod(<function Connection.add_connection at 0x107b3f760>)>,\n",
       "              'remove_connection': <classmethod(<function Connection.remove_connection at 0x107b3fe20>)>,\n",
       "              '__dict__': <attribute '__dict__' of 'Connection' objects>,\n",
       "              '__weakref__': <attribute '__weakref__' of 'Connection' objects>,\n",
       "              '__doc__': None})"
      ]
     },
     "execution_count": 24,
     "metadata": {},
     "output_type": "execute_result"
    }
   ],
   "source": [
    "Connection.__dict__"
   ]
  },
  {
   "cell_type": "code",
   "execution_count": 25,
   "id": "4d63509e",
   "metadata": {},
   "outputs": [
    {
     "data": {
      "text/plain": [
       "55001"
      ]
     },
     "execution_count": 25,
     "metadata": {},
     "output_type": "execute_result"
    }
   ],
   "source": [
    "connection.get_next_port()"
   ]
  },
  {
   "cell_type": "code",
   "execution_count": 26,
   "id": "83fcfc99",
   "metadata": {},
   "outputs": [
    {
     "data": {
      "text/plain": [
       "1"
      ]
     },
     "execution_count": 26,
     "metadata": {},
     "output_type": "execute_result"
    }
   ],
   "source": [
    "connection2 = Connection(\"test.home\")"
   ]
  },
  {
   "cell_type": "code",
   "execution_count": 28,
   "id": "e3888261",
   "metadata": {},
   "outputs": [
    {
     "data": {
      "text/plain": [
       "2"
      ]
     },
     "execution_count": 28,
     "metadata": {},
     "output_type": "execute_result"
    }
   ],
   "source": [
    "connection2.add_connection()\n",
    "Connection.get_connection_count()\n"
   ]
  },
  {
   "cell_type": "markdown",
   "id": "8d792bdd",
   "metadata": {},
   "source": [
    "_Can you call an instance method from the class method? Can you call the class method from an instance method?_\n",
    "\n",
    "No you cannot call an instance method from the class method as self is not defined. \n",
    "Yes you can call a class method from an instance method as we did previously."
   ]
  },
  {
   "cell_type": "code",
   "execution_count": 29,
   "id": "12ce9356",
   "metadata": {},
   "outputs": [
    {
     "data": {
      "text/plain": [
       "mappingproxy({'__module__': '__main__',\n",
       "              'port': 55000,\n",
       "              'conn_limit': 10,\n",
       "              'conn_count': 2,\n",
       "              '__init__': <function __main__.Connection.__init__(self, host)>,\n",
       "              '__repr__': <function __main__.Connection.__repr__(self)>,\n",
       "              'get_next_port': <classmethod(<function Connection.get_next_port at 0x107b3fc70>)>,\n",
       "              'get_connection_count': <classmethod(<function Connection.get_connection_count at 0x107b3f880>)>,\n",
       "              'add_connection': <classmethod(<function Connection.add_connection at 0x107b3f760>)>,\n",
       "              'remove_connection': <classmethod(<function Connection.remove_connection at 0x107b3fe20>)>,\n",
       "              '__dict__': <attribute '__dict__' of 'Connection' objects>,\n",
       "              '__weakref__': <attribute '__weakref__' of 'Connection' objects>,\n",
       "              '__doc__': None})"
      ]
     },
     "execution_count": 29,
     "metadata": {},
     "output_type": "execute_result"
    }
   ],
   "source": [
    "Connection.__dict__"
   ]
  },
  {
   "cell_type": "code",
   "execution_count": 31,
   "id": "45a453bb",
   "metadata": {},
   "outputs": [
    {
     "data": {
      "text/plain": [
       "{'host': 'localhost', 'port': 55000}"
      ]
     },
     "execution_count": 31,
     "metadata": {},
     "output_type": "execute_result"
    }
   ],
   "source": [
    "connection.__dict__"
   ]
  },
  {
   "cell_type": "code",
   "execution_count": 32,
   "id": "201df33a",
   "metadata": {},
   "outputs": [
    {
     "data": {
      "text/plain": [
       "{'host': 'test.home', 'port': 55001}"
      ]
     },
     "execution_count": 32,
     "metadata": {},
     "output_type": "execute_result"
    }
   ],
   "source": [
    "connection2.__dict__"
   ]
  },
  {
   "cell_type": "code",
   "execution_count": 33,
   "id": "c2969306",
   "metadata": {},
   "outputs": [],
   "source": [
    "connection.add_connection()"
   ]
  },
  {
   "cell_type": "code",
   "execution_count": 34,
   "id": "14f49fa2",
   "metadata": {},
   "outputs": [
    {
     "data": {
      "text/plain": [
       "{'host': 'localhost', 'port': 55000}"
      ]
     },
     "execution_count": 34,
     "metadata": {},
     "output_type": "execute_result"
    }
   ],
   "source": [
    "connection.__dict__"
   ]
  },
  {
   "cell_type": "code",
   "execution_count": 35,
   "id": "e48e88e6",
   "metadata": {},
   "outputs": [
    {
     "data": {
      "text/plain": [
       "mappingproxy({'__module__': '__main__',\n",
       "              'port': 55000,\n",
       "              'conn_limit': 10,\n",
       "              'conn_count': 3,\n",
       "              '__init__': <function __main__.Connection.__init__(self, host)>,\n",
       "              '__repr__': <function __main__.Connection.__repr__(self)>,\n",
       "              'get_next_port': <classmethod(<function Connection.get_next_port at 0x107b3fc70>)>,\n",
       "              'get_connection_count': <classmethod(<function Connection.get_connection_count at 0x107b3f880>)>,\n",
       "              'add_connection': <classmethod(<function Connection.add_connection at 0x107b3f760>)>,\n",
       "              'remove_connection': <classmethod(<function Connection.remove_connection at 0x107b3fe20>)>,\n",
       "              '__dict__': <attribute '__dict__' of 'Connection' objects>,\n",
       "              '__weakref__': <attribute '__weakref__' of 'Connection' objects>,\n",
       "              '__doc__': None})"
      ]
     },
     "execution_count": 35,
     "metadata": {},
     "output_type": "execute_result"
    }
   ],
   "source": [
    "Connection.__dict__"
   ]
  },
  {
   "cell_type": "code",
   "execution_count": null,
   "id": "29e70909",
   "metadata": {},
   "outputs": [],
   "source": []
  }
 ],
 "metadata": {
  "kernelspec": {
   "display_name": "Python 3 (ipykernel)",
   "language": "python",
   "name": "python3"
  },
  "language_info": {
   "codemirror_mode": {
    "name": "ipython",
    "version": 3
   },
   "file_extension": ".py",
   "mimetype": "text/x-python",
   "name": "python",
   "nbconvert_exporter": "python",
   "pygments_lexer": "ipython3",
   "version": "3.10.9"
  }
 },
 "nbformat": 4,
 "nbformat_minor": 5
}
