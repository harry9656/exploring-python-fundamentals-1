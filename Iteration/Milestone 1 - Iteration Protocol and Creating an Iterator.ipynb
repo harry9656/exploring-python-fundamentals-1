{
 "cells": [
  {
   "cell_type": "code",
   "execution_count": 11,
   "id": "f3c977e0",
   "metadata": {},
   "outputs": [],
   "source": [
    "class Count:\n",
    "    def __init__(self, limit):\n",
    "        self.limit = limit\n",
    "        \n",
    "    def __getitem__(self, index):\n",
    "        if index < self.limit:\n",
    "            return index\n",
    "        else:\n",
    "            raise IndexError(\"Out of limits\")"
   ]
  },
  {
   "cell_type": "code",
   "execution_count": 15,
   "id": "f8c89282",
   "metadata": {},
   "outputs": [
    {
     "name": "stdout",
     "output_type": "stream",
     "text": [
      "The first index is: 2\n",
      "There is no counter[5] value!! -> Out of limits\n"
     ]
    }
   ],
   "source": [
    "counter = Count(5)\n",
    "print(f\"The first index is: {counter[2]}\")\n",
    "\n",
    "try:\n",
    "    print(f\"The sixth index is: {counter[5]}\")\n",
    "except IndexError as error:\n",
    "    print(f\"There is no counter[5] value!! -> {error}\")\n",
    "    \n"
   ]
  },
  {
   "cell_type": "code",
   "execution_count": 67,
   "id": "db061fe0",
   "metadata": {},
   "outputs": [],
   "source": [
    "class Fibonacci:\n",
    "    def __init__(self, limit):\n",
    "        self.limit = limit\n",
    "        self.last = 1\n",
    "        self.current = 1\n",
    "        \n",
    "    def __getitem__(self, index):\n",
    "#         print(self)\n",
    "#         print(f\"Index is: {index}\")\n",
    "        if index < self.limit:\n",
    "            if index <= 1:\n",
    "                return 1\n",
    "            else:\n",
    "                self.last = 1\n",
    "                self.current = 1\n",
    "                for i in range(1, index):\n",
    "                    self.last, self.current = self.current, self.last + self.current\n",
    "                return self.current\n",
    "        else:\n",
    "            raise IndexError\n",
    "    \n",
    "    def __repr__(self):\n",
    "        return f\"Limit: {self.limit}\\nLast: {self.last}\\nCurrent: {self.current}\""
   ]
  },
  {
   "cell_type": "code",
   "execution_count": 68,
   "id": "36317601",
   "metadata": {},
   "outputs": [
    {
     "name": "stdout",
     "output_type": "stream",
     "text": [
      "1\n",
      "1\n",
      "2\n",
      "3\n",
      "5\n"
     ]
    }
   ],
   "source": [
    "fib = Fibonacci(5)\n",
    "\n",
    "for number in fib:\n",
    "    print(number)"
   ]
  },
  {
   "cell_type": "code",
   "execution_count": 60,
   "id": "30968351",
   "metadata": {},
   "outputs": [
    {
     "name": "stdout",
     "output_type": "stream",
     "text": [
      "Limit: 5\n",
      "Last: 3\n",
      "Current: 5\n",
      "Index is: 4\n"
     ]
    },
    {
     "data": {
      "text/plain": [
       "5"
      ]
     },
     "execution_count": 60,
     "metadata": {},
     "output_type": "execute_result"
    }
   ],
   "source": [
    "fib[4]"
   ]
  },
  {
   "cell_type": "code",
   "execution_count": null,
   "id": "f86c2e7c",
   "metadata": {},
   "outputs": [],
   "source": []
  }
 ],
 "metadata": {
  "kernelspec": {
   "display_name": "Python 3 (ipykernel)",
   "language": "python",
   "name": "python3"
  },
  "language_info": {
   "codemirror_mode": {
    "name": "ipython",
    "version": 3
   },
   "file_extension": ".py",
   "mimetype": "text/x-python",
   "name": "python",
   "nbconvert_exporter": "python",
   "pygments_lexer": "ipython3",
   "version": "3.10.9"
  }
 },
 "nbformat": 4,
 "nbformat_minor": 5
}
