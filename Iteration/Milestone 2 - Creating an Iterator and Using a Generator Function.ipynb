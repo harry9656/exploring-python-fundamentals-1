{
 "cells": [
  {
   "cell_type": "code",
   "execution_count": 1,
   "id": "b899d057",
   "metadata": {},
   "outputs": [],
   "source": [
    "class CountIterator:\n",
    "    def __init__(self, limit):\n",
    "        self.limit = limit\n",
    "        self.count = 0\n",
    "\n",
    "    def __next__(self):\n",
    "        if self.count < self.limit:\n",
    "            value = self.count\n",
    "            self.count += 1\n",
    "            return value\n",
    "        else:\n",
    "            raise StopIteration\n",
    "\n",
    "    def __iter__(self):\n",
    "        return self"
   ]
  },
  {
   "cell_type": "code",
   "execution_count": 2,
   "id": "95960685",
   "metadata": {},
   "outputs": [
    {
     "name": "stdout",
     "output_type": "stream",
     "text": [
      "0\n",
      "1\n",
      "2\n",
      "3\n",
      "4\n"
     ]
    }
   ],
   "source": [
    "for count in CountIterator(5):\n",
    "    print(count)"
   ]
  },
  {
   "cell_type": "code",
   "execution_count": 3,
   "id": "49d50161",
   "metadata": {},
   "outputs": [],
   "source": [
    "class Fibonacci:\n",
    "    def __init__(self, limit):\n",
    "        self.limit = limit\n",
    "        self.last = 0\n",
    "        self.current = 0\n",
    "        self.count = 0\n",
    "        \n",
    "    def __next__(self):\n",
    "        if self.count < self.limit:\n",
    "            self.count += 1\n",
    "            self.last, self.current = self.current, self.last + self.current\n",
    "            \n",
    "            if self.current == 0:\n",
    "                self.current = 1\n",
    "                \n",
    "            return self.current\n",
    "        else:\n",
    "            raise StopIteration\n",
    "    \n",
    "    def __iter__(self):\n",
    "        return self"
   ]
  },
  {
   "cell_type": "code",
   "execution_count": 4,
   "id": "9c216904",
   "metadata": {},
   "outputs": [
    {
     "name": "stdout",
     "output_type": "stream",
     "text": [
      "1\n",
      "1\n",
      "2\n",
      "3\n",
      "5\n"
     ]
    }
   ],
   "source": [
    "fib = Fibonacci(5)\n",
    "\n",
    "for num in fib:\n",
    "    print(num)"
   ]
  },
  {
   "cell_type": "code",
   "execution_count": 5,
   "id": "190ea922",
   "metadata": {},
   "outputs": [
    {
     "name": "stdout",
     "output_type": "stream",
     "text": [
      "1\n",
      "1\n",
      "2\n",
      "3\n",
      "5\n",
      "We correctly read all the sequence. This Error is Expected\n"
     ]
    }
   ],
   "source": [
    "fib = Fibonacci(5)\n",
    "print(next(fib))\n",
    "\n",
    "# Starts from the fib[1] because we already iterated on the first number of the Fibonacci sequence\n",
    "for next_iteration in fib:\n",
    "    print(next_iteration)\n",
    "\n",
    "try:    \n",
    "    next(fib)\n",
    "except StopIteration:\n",
    "    print(\"We correctly read all the sequence. This Error is Expected\")"
   ]
  },
  {
   "cell_type": "code",
   "execution_count": 6,
   "id": "0b5ac9ad",
   "metadata": {},
   "outputs": [
    {
     "name": "stdout",
     "output_type": "stream",
     "text": [
      "0\n",
      "1\n",
      "2\n",
      "3\n",
      "4\n"
     ]
    }
   ],
   "source": [
    "def count_generator(limit):\n",
    "    count = 0\n",
    "    while count < limit:\n",
    "        yield count\n",
    "        count += 1\n",
    "        \n",
    "for x in count_generator(5):\n",
    "    print(x)"
   ]
  },
  {
   "cell_type": "code",
   "execution_count": 7,
   "id": "a8fa2ff3",
   "metadata": {},
   "outputs": [],
   "source": [
    "def fibonacci_generator(limit):\n",
    "    count = 0\n",
    "    last = 0\n",
    "    current = 0\n",
    "    while count < limit:\n",
    "        last, current = current,last + current\n",
    "        if current == 0:\n",
    "            current = 1\n",
    "        yield current\n",
    "        count +=1"
   ]
  },
  {
   "cell_type": "code",
   "execution_count": 8,
   "id": "659d0fe7",
   "metadata": {},
   "outputs": [
    {
     "name": "stdout",
     "output_type": "stream",
     "text": [
      "1\n",
      "1\n",
      "2\n",
      "3\n",
      "5\n",
      "We correctly read all the sequence. This Error is Expected\n"
     ]
    }
   ],
   "source": [
    "fib = fibonacci_generator(5)\n",
    "\n",
    "print(next(fib))\n",
    "\n",
    "# Starts from the fib[1] because we already iterated on the first number of the Fibonacci sequence\n",
    "for next_iteration in fib:\n",
    "    print(next_iteration)\n",
    "\n",
    "try:    \n",
    "    next(fib)\n",
    "except StopIteration:\n",
    "    print(\"We correctly read all the sequence. This Error is Expected\")"
   ]
  },
  {
   "cell_type": "code",
   "execution_count": 9,
   "id": "c5e209ea",
   "metadata": {},
   "outputs": [
    {
     "data": {
      "text/plain": [
       "generator"
      ]
     },
     "execution_count": 9,
     "metadata": {},
     "output_type": "execute_result"
    }
   ],
   "source": [
    "fib = fibonacci_generator(5)\n",
    "type(fib)"
   ]
  },
  {
   "cell_type": "code",
   "execution_count": 10,
   "id": "9f08b230",
   "metadata": {},
   "outputs": [
    {
     "name": "stdout",
     "output_type": "stream",
     "text": [
      "1\n",
      "1\n",
      "2\n",
      "3\n",
      "5\n"
     ]
    }
   ],
   "source": [
    "for num in fib:\n",
    "    print(num)"
   ]
  },
  {
   "cell_type": "code",
   "execution_count": 11,
   "id": "01e52901",
   "metadata": {},
   "outputs": [],
   "source": [
    "# Reusing the same object twice doesn't throw any error but it is not returning the expected sequence.\n",
    "for num in fib:\n",
    "    print(num)"
   ]
  },
  {
   "cell_type": "code",
   "execution_count": null,
   "id": "52b032a2",
   "metadata": {},
   "outputs": [],
   "source": []
  }
 ],
 "metadata": {
  "kernelspec": {
   "display_name": "Python 3 (ipykernel)",
   "language": "python",
   "name": "python3"
  },
  "language_info": {
   "codemirror_mode": {
    "name": "ipython",
    "version": 3
   },
   "file_extension": ".py",
   "mimetype": "text/x-python",
   "name": "python",
   "nbconvert_exporter": "python",
   "pygments_lexer": "ipython3",
   "version": "3.10.9"
  }
 },
 "nbformat": 4,
 "nbformat_minor": 5
}
