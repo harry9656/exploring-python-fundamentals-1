{
 "cells": [
  {
   "cell_type": "code",
   "execution_count": 12,
   "id": "3047f506",
   "metadata": {},
   "outputs": [
    {
     "name": "stdout",
     "output_type": "stream",
     "text": [
      "Integer:\n",
      "id of a was 4369613040 and b was 4369613040 but a now is: 4369613104 b is: 4369613168\n",
      "Floating:\n",
      "id of a was 4447528848 and b was 4447528848 but a now is: 4487117808 b is: 4447525840\n",
      "String\n",
      "id of a was 4488021680 and b was 4488021680 but now is: 4488024560b is: 4418394288\n",
      "List:\n",
      "id of a was 4487915392 and b was 4487915392 but a now is: 4487915392 b is: 4487915392\n",
      "List new assignement:\n",
      "id of a was 4487915392 and b was 4487915392 but a now is: 4448971328 b is: 4487915392\n",
      "Tuple: \n",
      "id of a was 4488026624 and b was 4488026624 but a now is: 4488022144 b is: 4488026624\n",
      "Dictionary:\n",
      "id of a was 4487914752 and b was 4487914752 but a now is: 4487914752 b is: 4487914752\n",
      "Dictionary new assignement:\n",
      "id of a was 4487914752 and b was 4487914752 but a now is: 4488167296 b is: 4487914752\n"
     ]
    }
   ],
   "source": [
    "# Integer\n",
    "print(\"Integer:\")\n",
    "a = 1\n",
    "id_a = id(a)\n",
    "b = a\n",
    "id_b = id(b)\n",
    "a = 3 # This will change the container id of the variable a\n",
    "b = 5 # This will change the container id of the variable b\n",
    "print(f\"id of a was {id_a} and b was {id_b} but a now is: {id(a)} b is: {id(b)}\")\n",
    "# Integer is a container\n",
    "\n",
    "# Floating\n",
    "print(\"Floating:\")\n",
    "a = 1.3\n",
    "id_a = id(a)\n",
    "b = a\n",
    "id_b = id(b)\n",
    "a = 4.5 # This will change the container id of the variable a\n",
    "b = 3.5 # This will change the container id of the variable b\n",
    "print(f\"id of a was {id_a} and b was {id_b} but a now is: {id(a)} b is: {id(b)}\")\n",
    "# Floating is a container\n",
    "\n",
    "# String\n",
    "print(\"String\")\n",
    "a = \"Apple\"\n",
    "id_a = id(a)\n",
    "b = a\n",
    "id_b = id(b)\n",
    "a = \"Banana\" # This will change the container id of the variable a\n",
    "b = \"Orange\" # This will change the container id of the variable b\n",
    "print(f\"id of a was {id_a} and b was {id_b} but now is: {id(a)}b is: {id(b)}\")\n",
    "# String is a container\n",
    "\n",
    "# List single assignement\n",
    "print(\"List:\")\n",
    "a = [1,2,3]\n",
    "id_a = id(a)\n",
    "b = a\n",
    "id_b = id(b)\n",
    "a[1] = 4\n",
    "b[2] = 5\n",
    "print(f\"id of a was {id_a} and b was {id_b} but a now is: {id(a)} b is: {id(b)}\")\n",
    "\n",
    "# New assignement should change the id\n",
    "print(\"List new assignement:\")\n",
    "a = [3,2,1,4]\n",
    "print(f\"id of a was {id_a} and b was {id_b} but a now is: {id(a)} b is: {id(b)}\")\n",
    "# List is a Label\n",
    "\n",
    "# Tupple new assignement (Tuple is unmutable can't assign single elements)\n",
    "print(\"Tuple: \")\n",
    "a = (\"Car\", \"Truck\")\n",
    "id_a = id(a)\n",
    "b = a\n",
    "id_b = id(b)\n",
    "a = (\"Airplane\", \"Ship\")\n",
    "print(f\"id of a was {id_a} and b was {id_b} but a now is: {id(a)} b is: {id(b)}\")\n",
    "# Tuple is a container\n",
    "\n",
    "# Dictionary single assignement\n",
    "print(\"Dictionary:\")\n",
    "a = {\"Car\": 123, \"Truck\": 456}\n",
    "id_a = id(a)\n",
    "b = a\n",
    "id_b = id(b)\n",
    "a[\"Car\"] = 321\n",
    "b[\"Truck\"] = 652\n",
    "print(f\"id of a was {id_a} and b was {id_b} but a now is: {id(a)} b is: {id(b)}\")\n",
    "\n",
    "# Dictionary new assignment should change the id\n",
    "print(\"Dictionary new assignement:\")\n",
    "a = {\"Airplane\": 789}\n",
    "print(f\"id of a was {id_a} and b was {id_b} but a now is: {id(a)} b is: {id(b)}\")\n",
    "# Dictionary is a Container"
   ]
  },
  {
   "cell_type": "markdown",
   "id": "066b45cb",
   "metadata": {},
   "source": [
    "Integer, Float, String, Tuple are containers\n",
    "Lists and Dictionaries are labels"
   ]
  },
  {
   "cell_type": "code",
   "execution_count": null,
   "id": "ce35b239",
   "metadata": {},
   "outputs": [],
   "source": []
  }
 ],
 "metadata": {
  "kernelspec": {
   "display_name": "Python 3 (ipykernel)",
   "language": "python",
   "name": "python3"
  },
  "language_info": {
   "codemirror_mode": {
    "name": "ipython",
    "version": 3
   },
   "file_extension": ".py",
   "mimetype": "text/x-python",
   "name": "python",
   "nbconvert_exporter": "python",
   "pygments_lexer": "ipython3",
   "version": "3.10.9"
  }
 },
 "nbformat": 4,
 "nbformat_minor": 5
}
