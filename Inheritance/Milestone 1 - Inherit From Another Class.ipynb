{
 "cells": [
  {
   "cell_type": "markdown",
   "id": "790ab949",
   "metadata": {},
   "source": [
    "Create Animal Class with a name"
   ]
  },
  {
   "cell_type": "code",
   "execution_count": 5,
   "id": "b25eb79d",
   "metadata": {},
   "outputs": [
    {
     "data": {
      "text/plain": [
       "kitty"
      ]
     },
     "execution_count": 5,
     "metadata": {},
     "output_type": "execute_result"
    }
   ],
   "source": [
    "class Animal:\n",
    "    def __init__(self, name):\n",
    "        self.name = name\n",
    "        \n",
    "    def __repr__(self):\n",
    "        return self.name\n",
    "\n",
    "cat = Animal(\"kitty\")\n",
    "\n",
    "cat"
   ]
  },
  {
   "cell_type": "code",
   "execution_count": 33,
   "id": "3811f933",
   "metadata": {},
   "outputs": [],
   "source": [
    "class Mammal(Animal):\n",
    "    def __init__(self,name):\n",
    "        super().__init__(name)\n",
    "        \n",
    "    def __repr__(self):\n",
    "        return f\"I am a mammal. My name is: {self.name}\"\n",
    "\n",
    "class Wolve(Mammal):\n",
    "    def __init__(self,name):\n",
    "        super().__init__(name)\n",
    "        \n",
    "    def __repr__(self):\n",
    "        return f\"I am a wolf. My name is: {self.name}\"\n",
    "\n",
    "class Bear(Mammal):\n",
    "    def __init__(self,name):\n",
    "        super().__init__(name)\n",
    "        \n",
    "    def __repr__(self):\n",
    "        return f\"I am a bear. My name is: {self.name}\"\n",
    "\n",
    "class Bird(Animal):\n",
    "    def __init__(self,name):\n",
    "        super().__init__(name)\n",
    "        \n",
    "    def __repr__(self):\n",
    "        return f\"I am a bird. My name is: {self.name}\"\n",
    "\n",
    "class Eagle(Bird):\n",
    "    def __init__(self,name):\n",
    "        super().__init__(name)\n",
    "        \n",
    "    def __repr__(self):\n",
    "        return f\"I am an eagle. My name is: {self.name}\"\n",
    "    \n",
    "class Duck(Bird):\n",
    "    def __init__(self,name):\n",
    "        super().__init__(name)\n",
    "        \n",
    "    def __repr__(self):\n",
    "        return f\"I am a duck. My name is: {self.name}\"\n",
    "\n",
    "class WaterAnimal(Animal):\n",
    "    def __init__(self,name):\n",
    "        super().__init__(name)\n",
    "    \n",
    "    def swim(self, depth):\n",
    "        self.depth = depth\n",
    "        return f\"{self.name} swimming at depth of {self.depth} feet\"\n",
    "    \n",
    "    def __repr__(self):\n",
    "        return f\"I am a water animal and I can swim. My name is: {self.name}\"\n",
    "\n",
    "class Frog(WaterAnimal):\n",
    "    def __init__(self,name):\n",
    "        super().__init__(name)\n",
    "        \n",
    "    def __repr__(self):\n",
    "        return f\"I am a frog. My name is: {self.name}\"\n",
    "\n",
    "class Trout(WaterAnimal):\n",
    "    def __init__(self,name):\n",
    "        super().__init__(name)\n",
    "        \n",
    "    def __repr__(self):\n",
    "        return f\"I am a trout. My name is: {self.name}\""
   ]
  },
  {
   "cell_type": "code",
   "execution_count": 34,
   "id": "8d5ee4fb",
   "metadata": {},
   "outputs": [
    {
     "data": {
      "text/plain": [
       "I am a wolf. My name is: Wolfy"
      ]
     },
     "execution_count": 34,
     "metadata": {},
     "output_type": "execute_result"
    }
   ],
   "source": [
    "wolve = Wolve(\"Wolfy\")\n",
    "wolve"
   ]
  },
  {
   "cell_type": "code",
   "execution_count": 35,
   "id": "4066eb61",
   "metadata": {},
   "outputs": [
    {
     "data": {
      "text/plain": [
       "I am a bear. My name is: Winny"
      ]
     },
     "execution_count": 35,
     "metadata": {},
     "output_type": "execute_result"
    }
   ],
   "source": [
    "bear = Bear(\"Winny\")\n",
    "bear"
   ]
  },
  {
   "cell_type": "code",
   "execution_count": 36,
   "id": "bbd8c320",
   "metadata": {},
   "outputs": [
    {
     "data": {
      "text/plain": [
       "I am an eagle. My name is: Feathers"
      ]
     },
     "execution_count": 36,
     "metadata": {},
     "output_type": "execute_result"
    }
   ],
   "source": [
    "eagle = Eagle(\"Feathers\")\n",
    "eagle"
   ]
  },
  {
   "cell_type": "code",
   "execution_count": 37,
   "id": "0f5eac38",
   "metadata": {},
   "outputs": [
    {
     "data": {
      "text/plain": [
       "I am a duck. My name is: Quacky"
      ]
     },
     "execution_count": 37,
     "metadata": {},
     "output_type": "execute_result"
    }
   ],
   "source": [
    "duck = Duck(\"Quacky\")\n",
    "duck"
   ]
  },
  {
   "cell_type": "code",
   "execution_count": 38,
   "id": "28ff3d28",
   "metadata": {},
   "outputs": [
    {
     "data": {
      "text/plain": [
       "'Leap swimming at depth of 2 feet'"
      ]
     },
     "execution_count": 38,
     "metadata": {},
     "output_type": "execute_result"
    }
   ],
   "source": [
    "frog = Frog(\"Leap\")\n",
    "frog.swim(2)"
   ]
  },
  {
   "cell_type": "code",
   "execution_count": 39,
   "id": "4a6411a0",
   "metadata": {},
   "outputs": [
    {
     "data": {
      "text/plain": [
       "'Nemo swimming at depth of 100 feet'"
      ]
     },
     "execution_count": 39,
     "metadata": {},
     "output_type": "execute_result"
    }
   ],
   "source": [
    "trout = Trout(\"Nemo\")\n",
    "trout.swim(100)"
   ]
  },
  {
   "cell_type": "code",
   "execution_count": null,
   "id": "6914ca09",
   "metadata": {},
   "outputs": [],
   "source": []
  }
 ],
 "metadata": {
  "kernelspec": {
   "display_name": "Python 3 (ipykernel)",
   "language": "python",
   "name": "python3"
  },
  "language_info": {
   "codemirror_mode": {
    "name": "ipython",
    "version": 3
   },
   "file_extension": ".py",
   "mimetype": "text/x-python",
   "name": "python",
   "nbconvert_exporter": "python",
   "pygments_lexer": "ipython3",
   "version": "3.10.9"
  }
 },
 "nbformat": 4,
 "nbformat_minor": 5
}
