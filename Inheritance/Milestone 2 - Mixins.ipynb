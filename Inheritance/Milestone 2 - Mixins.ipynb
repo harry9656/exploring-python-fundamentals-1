{
 "cells": [
  {
   "cell_type": "code",
   "execution_count": 1,
   "id": "a0788ff7",
   "metadata": {},
   "outputs": [],
   "source": [
    "class Animal:\n",
    "    def __init__(self, name):\n",
    "        self.name = name\n",
    "        \n",
    "    def __repr__(self):\n",
    "        return self.name\n",
    "\n",
    "# Types of movement\n",
    "class CanRun:\n",
    "    steps = 0\n",
    "    def run(self, steps):\n",
    "        self.steps +=steps\n",
    "        print(f\"{self.name} ran in total {self.steps} steps\")\n",
    "\n",
    "class CanHop:\n",
    "    hops = 0\n",
    "    def hop(self, number_of_hops):\n",
    "        self.hops += number_of_hops\n",
    "        print(f\"{self.name} hopped {self.hops} times in total\")\n",
    "\n",
    "class CanSwim:\n",
    "    feet = 0\n",
    "    def swim(self, feet):\n",
    "        self.feet += feet\n",
    "        print(f\"{self.name} swam in total of {self.feet} feets\")\n",
    "\n",
    "class CanFly:\n",
    "    feet = 0\n",
    "    def fly(self, feet):\n",
    "        self.feet += feet\n",
    "        print(f\"{self.name} flew in total of {self.feet} feets\")\n",
    "\n",
    "# Types of animals\n",
    "class Mammal(Animal):\n",
    "    def __init__(self,name):\n",
    "        super().__init__(name)\n",
    "        \n",
    "    def __repr__(self):\n",
    "        return f\"I am a mammal. My name is: {self.name}\"\n",
    "\n",
    "class Bird(Animal):\n",
    "    def __init__(self,name):\n",
    "        super().__init__(name)\n",
    "        \n",
    "    def __repr__(self):\n",
    "        return f\"I am a bird. My name is: {self.name}\"\n",
    "\n",
    "\n",
    "class WaterAnimal(Animal, CanSwim):\n",
    "    def __init__(self,name):\n",
    "        super().__init__(name)\n",
    "    \n",
    "    def __repr__(self):\n",
    "        return f\"I am a water animal and I can swim. My name is: {self.name}\"\n",
    "    "
   ]
  },
  {
   "cell_type": "code",
   "execution_count": 2,
   "id": "5da8af05",
   "metadata": {},
   "outputs": [],
   "source": [
    "\n",
    "class Wolve(Mammal, CanRun):\n",
    "    def __init__(self,name):\n",
    "        super().__init__(name)\n",
    "        \n",
    "    def __repr__(self):\n",
    "        return f\"I am a wolf. My name is: {self.name}\"\n",
    "\n",
    "class Bear(Mammal, CanRun, CanSwim):\n",
    "    def __init__(self,name):\n",
    "        super().__init__(name)\n",
    "        \n",
    "    def __repr__(self):\n",
    "        return f\"I am a bear. My name is: {self.name}\"\n",
    "\n",
    "class Eagle(Bird, CanFly):\n",
    "    def __init__(self,name):\n",
    "        super().__init__(name)\n",
    "        \n",
    "    def __repr__(self):\n",
    "        return f\"I am an eagle. My name is: {self.name}\"\n",
    "    \n",
    "class Duck(Bird, CanFly, CanRun, CanSwim):\n",
    "    def __init__(self,name):\n",
    "        super().__init__(name)\n",
    "        \n",
    "    def __repr__(self):\n",
    "        return f\"I am a duck. My name is: {self.name}\"\n",
    "\n",
    "\n",
    "class Frog(WaterAnimal, CanHop, CanRun):\n",
    "    def __init__(self,name):\n",
    "        super().__init__(name)\n",
    "        \n",
    "    def __repr__(self):\n",
    "        return f\"I am a frog. My name is: {self.name}\"\n",
    "\n",
    "class Trout(WaterAnimal):\n",
    "    def __init__(self,name):\n",
    "        super().__init__(name)\n",
    "        \n",
    "    def __repr__(self):\n",
    "        return f\"I am a trout. My name is: {self.name}\""
   ]
  },
  {
   "cell_type": "code",
   "execution_count": 3,
   "id": "12213a23",
   "metadata": {},
   "outputs": [
    {
     "name": "stdout",
     "output_type": "stream",
     "text": [
      "Wolfy ran in total 5 steps\n"
     ]
    }
   ],
   "source": [
    "wolve = Wolve(\"Wolfy\")\n",
    "wolve.run(5)"
   ]
  },
  {
   "cell_type": "code",
   "execution_count": 4,
   "id": "a3e0056a",
   "metadata": {},
   "outputs": [
    {
     "name": "stdout",
     "output_type": "stream",
     "text": [
      "Winny ran in total 10 steps\n",
      "Winny swam in total of 12 feets\n"
     ]
    }
   ],
   "source": [
    "bear = Bear(\"Winny\")\n",
    "bear.run(10)\n",
    "bear.swim(12)"
   ]
  },
  {
   "cell_type": "code",
   "execution_count": 5,
   "id": "e32cc4af",
   "metadata": {},
   "outputs": [
    {
     "name": "stdout",
     "output_type": "stream",
     "text": [
      "Feathers flew in total of 10 feets\n"
     ]
    }
   ],
   "source": [
    "eagle = Eagle(\"Feathers\")\n",
    "eagle.fly(10)"
   ]
  },
  {
   "cell_type": "code",
   "execution_count": 6,
   "id": "beab266d",
   "metadata": {},
   "outputs": [
    {
     "name": "stdout",
     "output_type": "stream",
     "text": [
      "Quacky ran in total 12 steps\n",
      "Quacky swam in total of 12 feets\n",
      "Quacky flew in total of 31 feets\n"
     ]
    }
   ],
   "source": [
    "duck = Duck(\"Quacky\")\n",
    "duck.run(12)\n",
    "duck.swim(12)\n",
    "duck.fly(19)"
   ]
  },
  {
   "cell_type": "code",
   "execution_count": 7,
   "id": "865db0af",
   "metadata": {},
   "outputs": [
    {
     "name": "stdout",
     "output_type": "stream",
     "text": [
      "Leap swam in total of 2 feets\n",
      "Leap hopped 15 times in total\n"
     ]
    }
   ],
   "source": [
    "frog = Frog(\"Leap\")\n",
    "frog.swim(2)\n",
    "frog.hop(15)"
   ]
  },
  {
   "cell_type": "code",
   "execution_count": 8,
   "id": "033148a0",
   "metadata": {},
   "outputs": [
    {
     "name": "stdout",
     "output_type": "stream",
     "text": [
      "Nemo swam in total of 100 feets\n"
     ]
    }
   ],
   "source": [
    "trout = Trout(\"Nemo\")\n",
    "trout.swim(100)"
   ]
  },
  {
   "cell_type": "code",
   "execution_count": null,
   "id": "27f5ecfa",
   "metadata": {},
   "outputs": [],
   "source": []
  }
 ],
 "metadata": {
  "kernelspec": {
   "display_name": "Python 3 (ipykernel)",
   "language": "python",
   "name": "python3"
  },
  "language_info": {
   "codemirror_mode": {
    "name": "ipython",
    "version": 3
   },
   "file_extension": ".py",
   "mimetype": "text/x-python",
   "name": "python",
   "nbconvert_exporter": "python",
   "pygments_lexer": "ipython3",
   "version": "3.10.9"
  }
 },
 "nbformat": 4,
 "nbformat_minor": 5
}
